{
  "nbformat": 4,
  "nbformat_minor": 0,
  "metadata": {
    "colab": {
      "provenance": [],
      "authorship_tag": "ABX9TyOUO8YfQwNtxmU3MRqsPkNR",
      "include_colab_link": true
    },
    "kernelspec": {
      "name": "python3",
      "display_name": "Python 3"
    },
    "language_info": {
      "name": "python"
    }
  },
  "cells": [
    {
      "cell_type": "markdown",
      "metadata": {
        "id": "view-in-github",
        "colab_type": "text"
      },
      "source": [
        "<a href=\"https://colab.research.google.com/github/head1ton/003_YOLO_computer_vision/blob/main/03_custom_object_detection_labeling_yolov5/yolov5_custom_obj.ipynb\" target=\"_parent\"><img src=\"https://colab.research.google.com/assets/colab-badge.svg\" alt=\"Open In Colab\"/></a>"
      ]
    },
    {
      "cell_type": "code",
      "source": [
        "import os\n",
        "HOME = os.getcwd()\n",
        "print(HOME)"
      ],
      "metadata": {
        "id": "G82_IgE1hKXI"
      },
      "execution_count": null,
      "outputs": []
    },
    {
      "cell_type": "code",
      "source": [
        "!pip install ultralytics\n",
        "\n",
        "from IPython import display\n",
        "display.clear_output()\n",
        "\n",
        "import ultralytics\n",
        "ultralytics.checks()"
      ],
      "metadata": {
        "id": "xLa0jxIuhNPb"
      },
      "execution_count": null,
      "outputs": []
    },
    {
      "cell_type": "code",
      "execution_count": null,
      "metadata": {
        "id": "in_XVdHLf9T4"
      },
      "outputs": [],
      "source": [
        "from ultralytics import YOLO\n",
        "\n",
        "from IPython.display import display, Image"
      ]
    },
    {
      "cell_type": "code",
      "source": [
        "%cd {HOME}\n",
        "\n",
        "!yolo task=detect mode=predict model=yolov5s.pt conf=0.25 source='https://media.roboflow.com/notebooks/examples/dog.jpeg' save=True"
      ],
      "metadata": {
        "id": "vgQciEl0hSAY"
      },
      "execution_count": null,
      "outputs": []
    },
    {
      "cell_type": "code",
      "source": [
        "# data.zip\n",
        "from google.colab import drive\n",
        "drive.mount('/content/gdrive')\n",
        "!ln -s /content/gdrive/MyDrive/ /mydrive\n",
        "!ls /mydrive"
      ],
      "metadata": {
        "id": "L6wlTBh-ha3T"
      },
      "execution_count": null,
      "outputs": []
    },
    {
      "cell_type": "code",
      "source": [
        "!unzip /content/gdrive/MyDrive/data.zip -d /content/yolov5train"
      ],
      "metadata": {
        "id": "QrXxV5LFhuZU"
      },
      "execution_count": null,
      "outputs": []
    },
    {
      "cell_type": "code",
      "source": [
        "# dataset.yaml 수정"
      ],
      "metadata": {
        "id": "5x1hdRn8huI8"
      },
      "execution_count": null,
      "outputs": []
    },
    {
      "cell_type": "code",
      "source": [
        "%cd {HOME}\n",
        "\n",
        "!yolo task=detect mode=train model=yolov5s.pt data=/content/yolov5train/data.yaml epochs=100 imgsz=640 plots=True"
      ],
      "metadata": {
        "id": "qpyWqriLh9Yu"
      },
      "execution_count": null,
      "outputs": []
    },
    {
      "cell_type": "code",
      "source": [],
      "metadata": {
        "id": "n7tdXGwLh9KH"
      },
      "execution_count": null,
      "outputs": []
    },
    {
      "cell_type": "code",
      "source": [],
      "metadata": {
        "id": "YWzCA1CAisbH"
      },
      "execution_count": null,
      "outputs": []
    },
    {
      "cell_type": "code",
      "source": [
        "!git clone https://github.com/freedomwebtech/yolov5train\n",
        "!unzip /content/yolov5train/yolov5.zip -d /content/yolov5train\n",
        "%cd /content/yolov5train/yolov5\n",
        "!pip3 install -r requirements.txt"
      ],
      "metadata": {
        "id": "8K7RUX1CisXg"
      },
      "execution_count": null,
      "outputs": []
    },
    {
      "cell_type": "code",
      "source": [
        "# data.zip\n",
        "from google.colab import drive\n",
        "drive.mount('/content/gdrive')\n",
        "!ln -s /content/gdrive/MyDrive/ /mydrive\n",
        "!ls /mydrive"
      ],
      "metadata": {
        "id": "eVe5_DekisUF"
      },
      "execution_count": null,
      "outputs": []
    },
    {
      "cell_type": "code",
      "source": [
        "!unzip /content/gdrive/MyDrive/data.zip -d /content/yolov5train"
      ],
      "metadata": {
        "id": "3-Nku4GMisQv"
      },
      "execution_count": null,
      "outputs": []
    },
    {
      "cell_type": "code",
      "source": [
        "# dataset.yaml 수정"
      ],
      "metadata": {
        "id": "oRekF_U6i4tj"
      },
      "execution_count": null,
      "outputs": []
    },
    {
      "cell_type": "code",
      "source": [
        "!python3 /content/yolov5train/yolov5/train.py --img 416 --batch 16 --epochs 100 --data /content/yolov5train/yolov5/dataset.yaml --weights yolov5s.pt"
      ],
      "metadata": {
        "id": "q3xecK4Oi3NM"
      },
      "execution_count": null,
      "outputs": []
    }
  ]
}